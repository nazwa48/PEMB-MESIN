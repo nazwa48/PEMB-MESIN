{
  "nbformat": 4,
  "nbformat_minor": 0,
  "metadata": {
    "colab": {
      "provenance": [],
      "authorship_tag": "ABX9TyPBLfmCSJXMU+kmb4Pt4ZKR",
      "include_colab_link": true
    },
    "kernelspec": {
      "name": "python3",
      "display_name": "Python 3"
    },
    "language_info": {
      "name": "python"
    }
  },
  "cells": [
    {
      "cell_type": "markdown",
      "metadata": {
        "id": "view-in-github",
        "colab_type": "text"
      },
      "source": [
        "<a href=\"https://colab.research.google.com/github/nazwa48/PEMB-MESIN/blob/main/Tugas2JS4.ipynb\" target=\"_parent\"><img src=\"https://colab.research.google.com/assets/colab-badge.svg\" alt=\"Open In Colab\"/></a>"
      ]
    },
    {
      "cell_type": "code",
      "execution_count": 1,
      "metadata": {
        "id": "zIZIQkMY5yyR"
      },
      "outputs": [],
      "source": [
        "import cv2\n",
        "import os\n",
        "import matplotlib.image as mpimg\n",
        "from pathlib import Path\n",
        "from PIL import Image\n",
        "import numpy as np\n",
        "import matplotlib.pyplot as plt\n",
        "from sklearn import svm\n",
        "from sklearn.model_selection import train_test_split\n",
        "from sklearn.metrics import classification_report, accuracy_score\n",
        "import matplotlib.pyplot as plt\n",
        "import random"
      ]
    },
    {
      "cell_type": "code",
      "source": [
        "from google.colab import drive\n",
        "drive.mount('/content/drive')"
      ],
      "metadata": {
        "colab": {
          "base_uri": "https://localhost:8080/"
        },
        "id": "XSN_l5QT6KwQ",
        "outputId": "b15d2b9e-bf48-46a0-8d75-cca0fcd3d8ec"
      },
      "execution_count": 4,
      "outputs": [
        {
          "output_type": "stream",
          "name": "stdout",
          "text": [
            "Drive already mounted at /content/drive; to attempt to forcibly remount, call drive.mount(\"/content/drive\", force_remount=True).\n"
          ]
        }
      ]
    },
    {
      "cell_type": "code",
      "source": [
        "# Image directories\n",
        "train_dir = '/content/drive/MyDrive/images/training/'\n",
        "test_dir = '/content/drive/MyDrive/images/test/'"
      ],
      "metadata": {
        "id": "zcu4tLks7UHx"
      },
      "execution_count": 5,
      "outputs": []
    },
    {
      "cell_type": "markdown",
      "source": [
        "# Load dataset"
      ],
      "metadata": {
        "id": "chW-eUhP7eLr"
      }
    },
    {
      "cell_type": "code",
      "source": [
        "def load_dataset(img_dir):\n",
        "    p = Path(img_dir)\n",
        "    dirs = p.glob('*')\n",
        "\n",
        "    img_list = []\n",
        "\n",
        "    for dir in dirs:\n",
        "        label = str(dir).split('/')[-1]\n",
        "        for file in dir.glob('*.jpg'):\n",
        "            img = mpimg.imread(file)\n",
        "\n",
        "            if img is not None:\n",
        "                img_list.append((img, label))\n",
        "\n",
        "    return img_list"
      ],
      "metadata": {
        "id": "OL8oCsHF7jAC"
      },
      "execution_count": 6,
      "outputs": []
    },
    {
      "cell_type": "markdown",
      "source": [
        "# Standarisasi dan Encoding"
      ],
      "metadata": {
        "id": "Hlp_xINt7k_k"
      }
    },
    {
      "cell_type": "code",
      "source": [
        "def standarized_input(image):\n",
        "    # Resize to w: 1100, h: 600 using OpenCV\n",
        "    std_img = cv2.resize(image, (1100, 600))\n",
        "    return std_img\n",
        "\n",
        "def label_encoder(label):\n",
        "    # day as 1; night as 0\n",
        "    return 1 if label == 'day' else 0"
      ],
      "metadata": {
        "id": "1Jng9EGs7qA4"
      },
      "execution_count": 7,
      "outputs": []
    },
    {
      "cell_type": "markdown",
      "source": [
        "# Preprocessing data"
      ],
      "metadata": {
        "id": "o2WXyS_n7tJR"
      }
    },
    {
      "cell_type": "code",
      "source": [
        "def preprocess(img_list):\n",
        "    std_img_list = []\n",
        "\n",
        "    for item in img_list:\n",
        "        image = item[0]\n",
        "        label = item[1]\n",
        "\n",
        "        # Standarize the image\n",
        "        std_img = standarized_input(image)\n",
        "\n",
        "        # Encode the label\n",
        "        img_label = label_encoder(label)\n",
        "\n",
        "        std_img_list.append((std_img, img_label))\n",
        "\n",
        "    return std_img_list"
      ],
      "metadata": {
        "id": "hkMCm4oa7vKS"
      },
      "execution_count": 8,
      "outputs": []
    },
    {
      "cell_type": "markdown",
      "source": [
        "# Fungsi untuk ekstraksi histogram dari gambar"
      ],
      "metadata": {
        "id": "vsOCShfP7yyk"
      }
    },
    {
      "cell_type": "code",
      "source": [
        "def extract_histogram(image_path, bins=(8, 8, 8)):\n",
        "    # Baca gambar\n",
        "    image = cv2.imread(image_path)\n",
        "    # Konversi gambar ke format HSV\n",
        "    hsv = cv2.cvtColor(image, cv2.COLOR_BGR2HSV)\n",
        "    # Ekstraksi histogram dalam ruang warna HSV\n",
        "    hist = cv2.calcHist([hsv], [0, 1, 2], None, bins, [0, 180, 0, 256, 0, 256])\n",
        "    # Normalisasi histogram\n",
        "    cv2.normalize(hist, hist)\n",
        "    return hist.flatten()"
      ],
      "metadata": {
        "id": "qE5RIE_X71Qb"
      },
      "execution_count": 9,
      "outputs": []
    },
    {
      "cell_type": "markdown",
      "source": [
        "# Fungsi untuk memuat data dan label"
      ],
      "metadata": {
        "id": "lQph4Wd772N4"
      }
    },
    {
      "cell_type": "code",
      "source": [
        "def load_data(directory):\n",
        "    data = []\n",
        "    labels = []\n",
        "\n",
        "    for label in [\"day\", \"night\"]:\n",
        "        path = os.path.join(directory, label)\n",
        "        for img_file in os.listdir(path):\n",
        "            img_path = os.path.join(path, img_file)\n",
        "            hist = extract_histogram(img_path)\n",
        "            data.append(hist)\n",
        "            labels.append(0 if label == \"day\" else 1)\n",
        "\n",
        "    return np.array(data), np.array(labels)"
      ],
      "metadata": {
        "id": "WH-7jq-A76xU"
      },
      "execution_count": 10,
      "outputs": []
    },
    {
      "cell_type": "markdown",
      "source": [
        "# Memuat data training dan test"
      ],
      "metadata": {
        "id": "nUCfpdbo7_4s"
      }
    },
    {
      "cell_type": "code",
      "source": [
        "train_data, train_labels = load_data(train_dir)\n",
        "test_data, test_labels = load_data(test_dir)"
      ],
      "metadata": {
        "id": "52WOoFHi8Bl0"
      },
      "execution_count": 11,
      "outputs": []
    },
    {
      "cell_type": "markdown",
      "source": [
        "# Klasifikasi menggunakan SVM"
      ],
      "metadata": {
        "id": "9b8B0PlO8DwS"
      }
    },
    {
      "cell_type": "code",
      "source": [
        "# Inisialisasi model SVM\n",
        "model = svm.SVC(kernel='linear')\n",
        "\n",
        "# Melatih model SVM\n",
        "model.fit(train_data, train_labels)\n",
        "\n",
        "# Prediksi data test\n",
        "predictions = model.predict(test_data)\n",
        "\n",
        "# Evaluasi model\n",
        "accuracy = accuracy_score(test_labels, predictions)\n",
        "report = classification_report(test_labels, predictions, target_names=[\"Day\", \"Night\"])\n",
        "\n",
        "# Menampilkan hasil evaluasi\n",
        "print(f\"Accuracy: {accuracy * 100:.2f}%\")\n",
        "print(\"Classification Report:\")\n",
        "print(report)"
      ],
      "metadata": {
        "id": "DfvyVUtE8GRf",
        "outputId": "8b9d241b-bd22-4bf9-a0f6-f82b07ad18b9",
        "colab": {
          "base_uri": "https://localhost:8080/"
        }
      },
      "execution_count": 12,
      "outputs": [
        {
          "output_type": "stream",
          "name": "stdout",
          "text": [
            "Accuracy: 97.50%\n",
            "Classification Report:\n",
            "              precision    recall  f1-score   support\n",
            "\n",
            "         Day       0.99      0.96      0.97        80\n",
            "       Night       0.96      0.99      0.98        80\n",
            "\n",
            "    accuracy                           0.97       160\n",
            "   macro avg       0.98      0.98      0.97       160\n",
            "weighted avg       0.98      0.97      0.97       160\n",
            "\n"
          ]
        }
      ]
    }
  ]
}