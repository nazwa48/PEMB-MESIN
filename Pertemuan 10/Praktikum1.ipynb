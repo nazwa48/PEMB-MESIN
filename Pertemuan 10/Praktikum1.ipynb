{
  "cells": [
    {
      "cell_type": "markdown",
      "metadata": {
        "id": "3T22ueImYnFF"
      },
      "source": [
        "# **Praktikum 1**\n",
        "RNN untuk Analisis Sentimen<p>\n",
        "\n",
        "<!-- **Download Dataset Terlebih Dahulu**<p>\n",
        "[Data Set web.csv(klik)](data/Iris.csv) -->\n",
        "\n",
        "### **Setup**\n",
        "Impor matplotlib dan buat fungsi pembantu untuk memplot grafik:\n",
        "\n",
        "\n"
      ]
    },
    {
      "cell_type": "code",
      "execution_count": 1,
      "metadata": {
        "id": "iy_uZ_K2YnFM"
      },
      "outputs": [],
      "source": [
        "import numpy as np\n",
        "import tensorflow_datasets as tfds\n",
        "import tensorflow as tf\n",
        "\n",
        "tfds.disable_progress_bar()"
      ]
    },
    {
      "cell_type": "code",
      "execution_count": 2,
      "metadata": {
        "id": "3Xc4O7i2Yw3U"
      },
      "outputs": [],
      "source": [
        "import matplotlib.pyplot as plt\n",
        "\n",
        "def plot_graphs(history, metric):\n",
        "  plt.plot(history.history[metric])\n",
        "  plt.plot(history.history['val_'+metric], '')\n",
        "  plt.xlabel(\"Epochs\")\n",
        "  plt.ylabel(metric)\n",
        "  plt.legend([metric, 'val_'+metric])"
      ]
    },
    {
      "cell_type": "markdown",
      "metadata": {
        "id": "tcQZqdmPY9y9"
      },
      "source": [
        "### **Setup input pipeline**\n",
        "\n",
        "Dataset ulasan film IMDB adalah kumpulan data klasifikasi biner—semua ulasan memiliki sentimen positif atau negatif. <p>\n",
        "Download dataset menggunakan TFDS. Lihat loading text tutorial jika ingin me load data secara manual"
      ]
    },
    {
      "cell_type": "code",
      "execution_count": 3,
      "metadata": {
        "colab": {
          "base_uri": "https://localhost:8080/"
        },
        "id": "1iFaqowFY9gv",
        "outputId": "f2502862-e36a-4973-a728-5169834e5b1e"
      },
      "outputs": [
        {
          "output_type": "stream",
          "name": "stdout",
          "text": [
            "Downloading and preparing dataset 80.23 MiB (download: 80.23 MiB, generated: Unknown size, total: 80.23 MiB) to /root/tensorflow_datasets/imdb_reviews/plain_text/1.0.0...\n",
            "Dataset imdb_reviews downloaded and prepared to /root/tensorflow_datasets/imdb_reviews/plain_text/1.0.0. Subsequent calls will reuse this data.\n"
          ]
        },
        {
          "output_type": "execute_result",
          "data": {
            "text/plain": [
              "(TensorSpec(shape=(), dtype=tf.string, name=None),\n",
              " TensorSpec(shape=(), dtype=tf.int64, name=None))"
            ]
          },
          "metadata": {},
          "execution_count": 3
        }
      ],
      "source": [
        "dataset, info = tfds.load('imdb_reviews', with_info=True,\n",
        "                          as_supervised=True)\n",
        "train_dataset, test_dataset = dataset['train'], dataset['test']\n",
        "\n",
        "train_dataset.element_spec"
      ]
    },
    {
      "cell_type": "markdown",
      "metadata": {
        "id": "P8h2lWBgZZLT"
      },
      "source": [
        "Awalnya ini mengembalikan dataset (teks, pasangan label):"
      ]
    },
    {
      "cell_type": "code",
      "execution_count": 4,
      "metadata": {
        "colab": {
          "base_uri": "https://localhost:8080/"
        },
        "id": "wR2E19Q3ZbU2",
        "outputId": "d9bfd38e-51c4-48f3-fb52-8fa9e2d27bee"
      },
      "outputs": [
        {
          "output_type": "stream",
          "name": "stdout",
          "text": [
            "text:  b\"This was an absolutely terrible movie. Don't be lured in by Christopher Walken or Michael Ironside. Both are great actors, but this must simply be their worst role in history. Even their great acting could not redeem this movie's ridiculous storyline. This movie is an early nineties US propaganda piece. The most pathetic scenes were those when the Columbian rebels were making their cases for revolutions. Maria Conchita Alonso appeared phony, and her pseudo-love affair with Walken was nothing but a pathetic emotional plug in a movie that was devoid of any real meaning. I am disappointed that there are movies like this, ruining actor's like Christopher Walken's good name. I could barely sit through it.\"\n",
            "label:  0\n"
          ]
        }
      ],
      "source": [
        "for example, label in train_dataset.take(1):\n",
        "  print('text: ', example.numpy())\n",
        "  print('label: ', label.numpy())"
      ]
    },
    {
      "cell_type": "code",
      "execution_count": 5,
      "metadata": {
        "colab": {
          "base_uri": "https://localhost:8080/"
        },
        "id": "tcn_ylGSZe4E",
        "outputId": "b257a1e2-5280-45d4-d562-c2f7dcc84a55"
      },
      "outputs": [
        {
          "output_type": "stream",
          "name": "stdout",
          "text": [
            "text:  b\"This was an absolutely terrible movie. Don't be lured in by Christopher Walken or Michael Ironside. Both are great actors, but this must simply be their worst role in history. Even their great acting could not redeem this movie's ridiculous storyline. This movie is an early nineties US propaganda piece. The most pathetic scenes were those when the Columbian rebels were making their cases for revolutions. Maria Conchita Alonso appeared phony, and her pseudo-love affair with Walken was nothing but a pathetic emotional plug in a movie that was devoid of any real meaning. I am disappointed that there are movies like this, ruining actor's like Christopher Walken's good name. I could barely sit through it.\"\n",
            "label:  0\n"
          ]
        }
      ],
      "source": [
        "for example, label in train_dataset.take(1):\n",
        "  print('text: ', example.numpy())\n",
        "  print('label: ', label.numpy())"
      ]
    },
    {
      "cell_type": "markdown",
      "metadata": {
        "id": "spD206NVZd4-"
      },
      "source": [
        "Berikutnya acak data untuk pelatihan dan membuat kumpulan pasangan (teks, label) ini:"
      ]
    },
    {
      "cell_type": "code",
      "execution_count": 6,
      "metadata": {
        "colab": {
          "base_uri": "https://localhost:8080/"
        },
        "id": "iWl5iNn7Zjwi",
        "outputId": "9d545d73-5d6c-4de4-81d9-a8706cec287f"
      },
      "outputs": [
        {
          "output_type": "stream",
          "name": "stdout",
          "text": [
            "texts:  [b\"The story and the characters were some of the best I've ever seen. the graphics were good for the PS and the cut scenes and voice overs were amazing. I beat the game at least 3 times and loved every second of it. I felt the problems the protagonist faced were believable and realistic and i believe it deserves a sequel. or at least a remake. If they remade it for the ps3 i would buy the system for just that game and maybe mgs4 its amazing also the idea and execution of the dragoon system is enough to warrant a rental and on top of that ad the inventive although sometimes cheating(stupid buster wand) combat addition system and the plot makes this game a definite buy.\"\n",
            " b'The explosion of TV channels must be eternally grateful to the Randolph Scott Western production line, because any any moment there must be one of what seems like a hundred Randolph Scott movies playing on at least one no-budget station.<br /><br />\"Man Behind The Gun\" is a typical early 1950\\'s period melodrama with pre-WWII production values that relies on a historically-topical murder mystery plot peppered with action scenes to disguise the script\\'s complete absence of character development, and thus lack of suspense. In years to come the role of these films would be taken over by TV shows like \\'Gunsmoke\\', \\'Bonanza\\', etc - and these actually did the job better. Randolph Scott, looking particularly grizzled in this, is the good guy, struggling against the bad guys against whom he will eventually prevail. There\\'s no more interest in what he goes through emotionally than in what his horse is feeling, unless you count wondering whether he\\'ll sort out the initial misunderstanding with the female lead by the end. The music is a stronger indication of the emotional state of the \\'characters\\' than the acting is. But it\\'s fine if that floats your boat; and I wouldn\\'t berate you for enjoying \\'Diagnosis, Murder\\', either.<br /><br />Workmanlike, pedestrian, and ageing rapidly. 3 stars for being competently put together; 0 for artistic endeavour.'\n",
            " b'Film starts with 3 people meeting each other in the bar. OK. They\\'re talking about their imaginary lives, lying all the time, with no reason. Still OK.From time to time, they even make you laugh. Interesting. First 30 minutes you actually enjoy it! But then...things become worse...Nothing\\'s happening...for a long time...and then, when something happen, all you can see are naked old \"ladies\" touching each other! Not OK. Disgusting! By the way, this part should be the top of the movie, but it\\'s everything except that! Movie has no point,it\\'s boring, and sick! <br /><br />The strangest thing is that here(Belgrade, Serbia) on FEST (film festival), this movie was the most popular according to researches, of course, before people watched it! I even thought(before watching): \"Hay, this might be interesting, although it\\'s a Russian movie\"! But, God, No!!!!']\n",
            "\n",
            "labels:  [1 0 0]\n"
          ]
        }
      ],
      "source": [
        "BUFFER_SIZE = 10000\n",
        "BATCH_SIZE = 64\n",
        "\n",
        "train_dataset = train_dataset.shuffle(BUFFER_SIZE).batch(BATCH_SIZE).prefetch(tf.data.AUTOTUNE)\n",
        "test_dataset = test_dataset.batch(BATCH_SIZE).prefetch(tf.data.AUTOTUNE)\n",
        "\n",
        "for example, label in train_dataset.take(1):\n",
        "  print('texts: ', example.numpy()[:3])\n",
        "  print()\n",
        "  print('labels: ', label.numpy()[:3])\n"
      ]
    },
    {
      "cell_type": "markdown",
      "metadata": {
        "id": "h3wWVkoCZouF"
      },
      "source": [
        "### **Buat Teks Encoder**\n",
        "Teks mentah yang dimuat oleh tfds perlu diproses sebelum dapat digunakan dalam model. Cara termudah memproses teks untuk pelatihan adalah menggunakan lapisan TextVectorization. Lapisan ini memiliki banyak kemampuan, namun pada tutorial ini menggunakan perilaku default. Buat lapisan tersebut, dan teruskan teks kumpulan data ke metode .adapt lapisan:"
      ]
    },
    {
      "cell_type": "code",
      "execution_count": 7,
      "metadata": {
        "id": "ihxpxiMxZuRb"
      },
      "outputs": [],
      "source": [
        "VOCAB_SIZE = 1000\n",
        "encoder = tf.keras.layers.TextVectorization(\n",
        "    max_tokens=VOCAB_SIZE)\n",
        "encoder.adapt(train_dataset.map(lambda text, label: text))"
      ]
    },
    {
      "cell_type": "markdown",
      "metadata": {
        "id": "CJA3LitOZyPc"
      },
      "source": [
        "Metode .adapt mengatur kosakata lapisan. 20 token pertama dapat dilihat dengan kode berikut. Setelah padding dan token yang tidak diketahui, mereka diurutkan berdasarkan frekuensi:"
      ]
    },
    {
      "cell_type": "code",
      "execution_count": 8,
      "metadata": {
        "colab": {
          "base_uri": "https://localhost:8080/"
        },
        "id": "1wjfOSalZzx7",
        "outputId": "e3499421-7f71-4172-be1e-35034235c58e"
      },
      "outputs": [
        {
          "output_type": "execute_result",
          "data": {
            "text/plain": [
              "array(['', '[UNK]', 'the', 'and', 'a', 'of', 'to', 'is', 'in', 'it', 'i',\n",
              "       'this', 'that', 'br', 'was', 'as', 'for', 'with', 'movie', 'but'],\n",
              "      dtype='<U14')"
            ]
          },
          "metadata": {},
          "execution_count": 8
        }
      ],
      "source": [
        "vocab = np.array(encoder.get_vocabulary())\n",
        "vocab[:20]"
      ]
    },
    {
      "cell_type": "markdown",
      "metadata": {
        "id": "bl7MNmVrZ_QD"
      },
      "source": [
        "Setelah kosakata diatur, lapisan dapat mengkodekan teks ke dalam indeks. Tensor indeks diberi bantalan 0 ke urutan terpanjang dalam batch (kecuali jika Anda menetapkan output_sequence_length tetap):"
      ]
    },
    {
      "cell_type": "code",
      "execution_count": 9,
      "metadata": {
        "colab": {
          "base_uri": "https://localhost:8080/"
        },
        "id": "00hV19QxaBKq",
        "outputId": "311228b9-3e6a-4f06-dcaa-eef1926d1986"
      },
      "outputs": [
        {
          "output_type": "execute_result",
          "data": {
            "text/plain": [
              "array([[  2,  64,   3, ...,   0,   0,   0],\n",
              "       [  2,   1,   5, ...,   0,   0,   0],\n",
              "       [ 20, 500,  17, ...,   0,   0,   0]])"
            ]
          },
          "metadata": {},
          "execution_count": 9
        }
      ],
      "source": [
        "encoded_example = encoder(example)[:3].numpy()\n",
        "encoded_example"
      ]
    },
    {
      "cell_type": "markdown",
      "metadata": {
        "id": "SDKuJ5T5aGis"
      },
      "source": [
        "Dengan pengaturan default, prosesnya tidak dapat dibalik sepenuhnya. Ada dua alasan utama untuk itu: <p>\n",
        "- Nilai default untuk argumen standarisasi preprocessing.TextVectorization adalah \"lower_and_strip_punctuation\".\n",
        "- Ukuran kosa kata yang terbatas dan kurangnya fallback berbasis karakter menghasilkan beberapa token yang tidak diketahui."
      ]
    },
    {
      "cell_type": "code",
      "execution_count": 10,
      "metadata": {
        "colab": {
          "base_uri": "https://localhost:8080/"
        },
        "id": "QsV3jie5aKzu",
        "outputId": "3fd3c307-7fc7-476e-d797-b173af2f44a1"
      },
      "outputs": [
        {
          "output_type": "stream",
          "name": "stdout",
          "text": [
            "Original:  b\"The story and the characters were some of the best I've ever seen. the graphics were good for the PS and the cut scenes and voice overs were amazing. I beat the game at least 3 times and loved every second of it. I felt the problems the protagonist faced were believable and realistic and i believe it deserves a sequel. or at least a remake. If they remade it for the ps3 i would buy the system for just that game and maybe mgs4 its amazing also the idea and execution of the dragoon system is enough to warrant a rental and on top of that ad the inventive although sometimes cheating(stupid buster wand) combat addition system and the plot makes this game a definite buy.\"\n",
            "Round-trip:  the story and the characters were some of the best ive ever seen the [UNK] were good for the [UNK] and the cut scenes and voice [UNK] were amazing i [UNK] the game at least 3 times and loved every second of it i felt the problems the [UNK] [UNK] were believable and realistic and i believe it deserves a sequel or at least a remake if they [UNK] it for the [UNK] i would buy the [UNK] for just that game and maybe [UNK] its amazing also the idea and [UNK] of the [UNK] [UNK] is enough to [UNK] a [UNK] and on top of that [UNK] the [UNK] although sometimes [UNK] [UNK] [UNK] [UNK] [UNK] [UNK] and the plot makes this game a [UNK] buy                                                                                                                                                                                                                                                                                                                                                                                                                                                                                                                                                                                                                     \n",
            "\n",
            "Original:  b'The explosion of TV channels must be eternally grateful to the Randolph Scott Western production line, because any any moment there must be one of what seems like a hundred Randolph Scott movies playing on at least one no-budget station.<br /><br />\"Man Behind The Gun\" is a typical early 1950\\'s period melodrama with pre-WWII production values that relies on a historically-topical murder mystery plot peppered with action scenes to disguise the script\\'s complete absence of character development, and thus lack of suspense. In years to come the role of these films would be taken over by TV shows like \\'Gunsmoke\\', \\'Bonanza\\', etc - and these actually did the job better. Randolph Scott, looking particularly grizzled in this, is the good guy, struggling against the bad guys against whom he will eventually prevail. There\\'s no more interest in what he goes through emotionally than in what his horse is feeling, unless you count wondering whether he\\'ll sort out the initial misunderstanding with the female lead by the end. The music is a stronger indication of the emotional state of the \\'characters\\' than the acting is. But it\\'s fine if that floats your boat; and I wouldn\\'t berate you for enjoying \\'Diagnosis, Murder\\', either.<br /><br />Workmanlike, pedestrian, and ageing rapidly. 3 stars for being competently put together; 0 for artistic endeavour.'\n",
            "Round-trip:  the [UNK] of tv [UNK] must be [UNK] [UNK] to the [UNK] [UNK] [UNK] production line because any any moment there must be one of what seems like a [UNK] [UNK] [UNK] movies playing on at least one [UNK] [UNK] br man behind the [UNK] is a typical early [UNK] period [UNK] with [UNK] production [UNK] that [UNK] on a [UNK] murder mystery plot [UNK] with action scenes to [UNK] the [UNK] complete [UNK] of character development and [UNK] lack of suspense in years to come the role of these films would be taken over by tv shows like [UNK] [UNK] etc and these actually did the job better [UNK] [UNK] looking particularly [UNK] in this is the good guy [UNK] against the bad guys against whom he will eventually [UNK] theres no more interest in what he goes through [UNK] than in what his [UNK] is feeling unless you [UNK] [UNK] whether hell sort out the [UNK] [UNK] with the female lead by the end the music is a [UNK] [UNK] of the emotional [UNK] of the characters than the acting is but its fine if that [UNK] your [UNK] and i wouldnt [UNK] you for [UNK] [UNK] murder [UNK] br [UNK] [UNK] and [UNK] [UNK] 3 stars for being [UNK] put together [UNK] for [UNK] [UNK]                                                                                                                                                                                                                                                                                                                                                                                                                                                                                                                          \n",
            "\n",
            "Original:  b'Film starts with 3 people meeting each other in the bar. OK. They\\'re talking about their imaginary lives, lying all the time, with no reason. Still OK.From time to time, they even make you laugh. Interesting. First 30 minutes you actually enjoy it! But then...things become worse...Nothing\\'s happening...for a long time...and then, when something happen, all you can see are naked old \"ladies\" touching each other! Not OK. Disgusting! By the way, this part should be the top of the movie, but it\\'s everything except that! Movie has no point,it\\'s boring, and sick! <br /><br />The strangest thing is that here(Belgrade, Serbia) on FEST (film festival), this movie was the most popular according to researches, of course, before people watched it! I even thought(before watching): \"Hay, this might be interesting, although it\\'s a Russian movie\"! But, God, No!!!!'\n",
            "Round-trip:  film starts with 3 people [UNK] each other in the [UNK] ok theyre talking about their [UNK] lives [UNK] all the time with no reason still [UNK] time to time they even make you laugh interesting first [UNK] minutes you actually enjoy it but [UNK] become [UNK] [UNK] a long [UNK] then when something happen all you can see are [UNK] old [UNK] [UNK] each other not ok [UNK] by the way this part should be the top of the movie but its everything except that movie has no [UNK] boring and [UNK] br br the [UNK] thing is that [UNK] [UNK] on [UNK] film [UNK] this movie was the most [UNK] [UNK] to [UNK] of course before people watched it i even [UNK] watching [UNK] this might be interesting although its a [UNK] movie but god no                                                                                                                                                                                                                                                                                                                                                                                                                                                                                                                                                                                                          \n",
            "\n"
          ]
        }
      ],
      "source": [
        "for n in range(3):\n",
        "  print(\"Original: \", example[n].numpy())\n",
        "  print(\"Round-trip: \", \" \".join(vocab[encoded_example[n]]))\n",
        "  print()"
      ]
    },
    {
      "cell_type": "markdown",
      "metadata": {
        "id": "2OKwGoOVaOL1"
      },
      "source": [
        "### **Buat Model**\n",
        "\n",
        "<img src = \"https://raw.githubusercontent.com/tensorflow/text/master/docs/tutorials/images/bidirectional.png\"><p>\n",
        "\n",
        "diagram model dapat dilihat pada gambar diatas\n",
        "\n",
        "1. Model ini dapat dibuat sebagai tf.keras.Sequential.\n",
        "2. Lapisan pertama adalah encoder, yang mengubah teks menjadi urutan indeks token.\n",
        "3. Setelah encoder adalah lapisan penyematan (embedding layer). Lapisan penyematan menyimpan satu vektor per kata. Saat dipanggil, ini mengubah rangkaian indeks kata menjadi rangkaian vektor. Vektor-vektor ini dapat dilatih. Setelah pelatihan (dengan data yang cukup), kata-kata dengan arti yang mirip sering kali memiliki vektor yang serupa. Pencarian indeks ini jauh lebih efisien daripada operasi setara dengan meneruskan vektor yang disandikan one-hot melalui lapisan tf.keras.layers.Dense.\n",
        "4. Jaringan saraf berulang (RNN) memproses masukan urutan dengan melakukan iterasi melalui elemen. RNN meneruskan keluaran dari satu langkah waktu ke masukannya pada langkah waktu berikutnya.\n",
        "Pembungkus tf.keras.layers.Bidirection juga dapat digunakan dengan lapisan RNN. Ini menyebarkan masukan maju dan mundur melalui lapisan RNN dan kemudian menggabungkan keluaran akhir.\n",
        "- Keuntungan utama RNN dua arah adalah sinyal dari awal masukan tidak perlu diproses sepanjang waktu untuk memengaruhi keluaran.\n",
        "- Kerugian utama dari RNN dua arah adalah Anda tidak dapat melakukan streaming prediksi secara efisien saat kata-kata ditambahkan di akhir.\n",
        "5. Setelah RNN mengonversi urutan menjadi satu vektor, kedua lapisan tersebut.Dense melakukan beberapa pemrosesan akhir, dan mengonversi representasi vektor ini menjadi logit tunggal sebagai keluaran klasifikasi.\n",
        "\n",
        "Kode nya adalah sebagai berikut :"
      ]
    },
    {
      "cell_type": "code",
      "execution_count": 11,
      "metadata": {
        "id": "r3dc5GRqbWfG"
      },
      "outputs": [],
      "source": [
        "model = tf.keras.Sequential([\n",
        "    encoder,\n",
        "    tf.keras.layers.Embedding(\n",
        "        input_dim=len(encoder.get_vocabulary()),\n",
        "        output_dim=64,\n",
        "        # Use masking to handle the variable sequence lengths\n",
        "        mask_zero=True),\n",
        "    tf.keras.layers.Bidirectional(tf.keras.layers.LSTM(64)),\n",
        "    tf.keras.layers.Dense(64, activation='relu'),\n",
        "    tf.keras.layers.Dense(1)\n",
        "])"
      ]
    },
    {
      "cell_type": "markdown",
      "metadata": {
        "id": "Ad80BtMNba_g"
      },
      "source": [
        "Harap dicatat bahwa model sekuensial Keras digunakan di sini karena semua lapisan dalam model hanya memiliki masukan tunggal dan menghasilkan keluaran tunggal. Jika Anda ingin menggunakan lapisan RNN stateful, Anda mungkin ingin membangun model Anda dengan API fungsional Keras atau subkelas model sehingga Anda dapat mengambil dan menggunakan kembali status lapisan RNN. Untuk detailnya bisa dilihat pada Keras RNN guide <p>\n",
        "Lapisan penyematan menggunakan masking (uses masking ) untuk menangani panjang urutan yang bervariasi. Semua lapisan setelah penyematan dukungan penyematan"
      ]
    },
    {
      "cell_type": "code",
      "execution_count": 12,
      "metadata": {
        "colab": {
          "base_uri": "https://localhost:8080/"
        },
        "id": "9Q7X-2opbd8U",
        "outputId": "2cf18e47-79a7-46a7-9f6f-64aced467bc9"
      },
      "outputs": [
        {
          "output_type": "stream",
          "name": "stdout",
          "text": [
            "[False, True, True, True, True]\n"
          ]
        }
      ],
      "source": [
        "print([layer.supports_masking for layer in model.layers])"
      ]
    },
    {
      "cell_type": "markdown",
      "metadata": {
        "id": "etVSnxTjbqMb"
      },
      "source": [
        "Untuk memastikan bahwa ini berfungsi seperti yang diharapkan, evaluasi sebuah kalimat dua kali. Pertama, satu kalimat sehingga tidak ada bantalan (padding) untuk disamarkan:"
      ]
    },
    {
      "cell_type": "code",
      "execution_count": 13,
      "metadata": {
        "colab": {
          "base_uri": "https://localhost:8080/"
        },
        "id": "VFYkqhlHbsEE",
        "outputId": "a83a41e6-e459-47dc-b125-9629eb7b4f79"
      },
      "outputs": [
        {
          "output_type": "stream",
          "name": "stdout",
          "text": [
            "1/1 [==============================] - 10s 10s/step\n",
            "[0.00627833]\n"
          ]
        }
      ],
      "source": [
        "# predict on a sample text without padding.\n",
        "\n",
        "sample_text = ('The movie was cool. The animation and the graphics '\n",
        "               'were out of this world. I would recommend this movie.')\n",
        "predictions = model.predict(np.array([sample_text]))\n",
        "print(predictions[0])"
      ]
    },
    {
      "cell_type": "markdown",
      "metadata": {
        "id": "kht5ferAbv_A"
      },
      "source": [
        "Sekarang, evaluasi lagi dalam batch dengan kalimat yang lebih panjang. Hasilnya harus sama:"
      ]
    },
    {
      "cell_type": "code",
      "execution_count": 14,
      "metadata": {
        "colab": {
          "base_uri": "https://localhost:8080/"
        },
        "id": "G4iRYVCZbxj4",
        "outputId": "fa6c66ee-d61e-4eb0-d38a-62d416c9c21e"
      },
      "outputs": [
        {
          "output_type": "stream",
          "name": "stdout",
          "text": [
            "1/1 [==============================] - 0s 60ms/step\n",
            "[0.00627833]\n"
          ]
        }
      ],
      "source": [
        "# predict on a sample text with padding\n",
        "\n",
        "padding = \"the \" * 2000\n",
        "predictions = model.predict(np.array([sample_text, padding]))\n",
        "print(predictions[0])"
      ]
    },
    {
      "cell_type": "markdown",
      "metadata": {
        "id": "vxOiPdHFb0xA"
      },
      "source": [
        "compile model Keras untuk mengonfigurasi proses pelatihan:"
      ]
    },
    {
      "cell_type": "code",
      "execution_count": 15,
      "metadata": {
        "id": "MrpNXd9-b2aZ"
      },
      "outputs": [],
      "source": [
        "model.compile(loss=tf.keras.losses.BinaryCrossentropy(from_logits=True),\n",
        "              optimizer=tf.keras.optimizers.Adam(1e-4),\n",
        "              metrics=['accuracy'])"
      ]
    },
    {
      "cell_type": "markdown",
      "metadata": {
        "id": "r32QUWpJb4q2"
      },
      "source": [
        "### **Train Mode**"
      ]
    },
    {
      "cell_type": "code",
      "execution_count": 16,
      "metadata": {
        "colab": {
          "base_uri": "https://localhost:8080/"
        },
        "id": "3Gc0rHELb7PR",
        "outputId": "5ff565c1-9c14-49c8-b3ea-11add11ddf20"
      },
      "outputs": [
        {
          "output_type": "stream",
          "name": "stdout",
          "text": [
            "Epoch 1/10\n",
            "391/391 [==============================] - 50s 102ms/step - loss: 0.6341 - accuracy: 0.5890 - val_loss: 0.4848 - val_accuracy: 0.7620\n",
            "Epoch 2/10\n",
            "391/391 [==============================] - 26s 65ms/step - loss: 0.4053 - accuracy: 0.8170 - val_loss: 0.3765 - val_accuracy: 0.8224\n",
            "Epoch 3/10\n",
            "391/391 [==============================] - 25s 63ms/step - loss: 0.3473 - accuracy: 0.8504 - val_loss: 0.3504 - val_accuracy: 0.8615\n",
            "Epoch 4/10\n",
            "391/391 [==============================] - 25s 63ms/step - loss: 0.3287 - accuracy: 0.8593 - val_loss: 0.3391 - val_accuracy: 0.8578\n",
            "Epoch 5/10\n",
            "391/391 [==============================] - 25s 63ms/step - loss: 0.3175 - accuracy: 0.8632 - val_loss: 0.3446 - val_accuracy: 0.8604\n",
            "Epoch 6/10\n",
            "391/391 [==============================] - 23s 59ms/step - loss: 0.3095 - accuracy: 0.8682 - val_loss: 0.3295 - val_accuracy: 0.8625\n",
            "Epoch 7/10\n",
            "391/391 [==============================] - 25s 64ms/step - loss: 0.3035 - accuracy: 0.8712 - val_loss: 0.3186 - val_accuracy: 0.8661\n",
            "Epoch 8/10\n",
            "391/391 [==============================] - 25s 64ms/step - loss: 0.3004 - accuracy: 0.8716 - val_loss: 0.3496 - val_accuracy: 0.8578\n",
            "Epoch 9/10\n",
            "391/391 [==============================] - 25s 65ms/step - loss: 0.2957 - accuracy: 0.8742 - val_loss: 0.3185 - val_accuracy: 0.8568\n",
            "Epoch 10/10\n",
            "391/391 [==============================] - 26s 67ms/step - loss: 0.2927 - accuracy: 0.8740 - val_loss: 0.3163 - val_accuracy: 0.8630\n"
          ]
        }
      ],
      "source": [
        "history = model.fit(train_dataset, epochs=10, validation_data=test_dataset, validation_steps=30)"
      ]
    },
    {
      "cell_type": "code",
      "execution_count": 17,
      "metadata": {
        "colab": {
          "base_uri": "https://localhost:8080/"
        },
        "id": "bCvpugENecQ0",
        "outputId": "fb527183-7040-4a83-ee0b-2d7da00d678d"
      },
      "outputs": [
        {
          "output_type": "stream",
          "name": "stdout",
          "text": [
            "391/391 [==============================] - 12s 31ms/step - loss: 0.3169 - accuracy: 0.8616\n",
            "Test Loss: 0.3169344663619995\n",
            "Test Accuracy: 0.8616399765014648\n"
          ]
        }
      ],
      "source": [
        "test_loss, test_acc = model.evaluate(test_dataset)\n",
        "\n",
        "print('Test Loss:', test_loss)\n",
        "print('Test Accuracy:', test_acc)"
      ]
    },
    {
      "cell_type": "code",
      "execution_count": 18,
      "metadata": {
        "colab": {
          "base_uri": "https://localhost:8080/",
          "height": 719
        },
        "id": "IqHTv_rF0tEZ",
        "outputId": "2e8287ae-c07e-4524-cf3b-54388372d963"
      },
      "outputs": [
        {
          "output_type": "execute_result",
          "data": {
            "text/plain": [
              "(0.0, 0.6511834129691124)"
            ]
          },
          "metadata": {},
          "execution_count": 18
        },
        {
          "output_type": "display_data",
          "data": {
            "text/plain": [
              "<Figure size 1600x800 with 2 Axes>"
            ],
            "image/png": "[encoded data removed]"
          },
          "metadata": {}
        }
      ],
      "source": [
        "plt.figure(figsize=(16, 8))\n",
        "plt.subplot(1, 2, 1)\n",
        "plot_graphs(history, 'accuracy')\n",
        "plt.ylim(None, 1)\n",
        "plt.subplot(1, 2, 2)\n",
        "plot_graphs(history, 'loss')\n",
        "plt.ylim(0, None)"
      ]
    },
    {
      "cell_type": "markdown",
      "metadata": {
        "id": "D15DUX2O0oFT"
      },
      "source": [
        "Jalankan prediksi pada kalimat baru:<p>\n",
        "Jika prediksi >= 0,0 berarti positif, jika tidak maka negatif."
      ]
    },
    {
      "cell_type": "code",
      "execution_count": 19,
      "metadata": {
        "colab": {
          "base_uri": "https://localhost:8080/"
        },
        "id": "RqVwsnMD1WhC",
        "outputId": "aa639223-630c-428e-890c-603f0092f42a"
      },
      "outputs": [
        {
          "output_type": "stream",
          "name": "stdout",
          "text": [
            "1/1 [==============================] - 3s 3s/step\n",
            "[0.99235296]\n"
          ]
        }
      ],
      "source": [
        "\n",
        "sample_text = ('The movie was cool. The animation and the graphics '\n",
        "                'were out of this world. I would recommend this movie.')\n",
        "predictions = model.predict(np.array([sample_text]))\n",
        "print(predictions[0])"
      ]
    },
    {
      "cell_type": "markdown",
      "metadata": {
        "id": "kZ5eTzzI1eA0"
      },
      "source": [
        "### **Stack two or more LSTM layers**\n",
        "Lapisan berulang Keras memiliki dua mode yang tersedia yang dikontrol oleh argumen konstruktor return_sequences :<p>\n",
        "- Jika False, ia hanya mengembalikan keluaran terakhir untuk setiap urutan masukan (bentuk tensor 2D (batch_size, output_features)). Ini adalah default yang digunakan pada model sebelumnya.\n",
        "- Jika True, Sequence lengkap output berturut-turut untuk setiap langkah waktu dikembalikan (bentuk tensor 3D (ukuran_batch, langkah waktu, fitur_output)).\n",
        "\n",
        "Berikut adalah alur informasi dengan return_sequences=True:\n",
        "\n",
        "<img src = \"https://www.tensorflow.org/static/text/tutorials/images/layered_bidirectional.png\"><p>"
      ]
    },
    {
      "cell_type": "markdown",
      "metadata": {
        "id": "Q5qb7idC1wII"
      },
      "source": [
        "Hal yang menarik dari penggunaan RNN dengan return_sequences=True adalah outputnya masih memiliki 3 axis, sama seperti inputnya, sehingga bisa diteruskan ke layer RNN lain, seperti ini:"
      ]
    },
    {
      "cell_type": "code",
      "execution_count": 20,
      "metadata": {
        "id": "DGe91DpH1xrD"
      },
      "outputs": [],
      "source": [
        "\n",
        "model = tf.keras.Sequential([\n",
        "    encoder,\n",
        "    tf.keras.layers.Embedding(len(encoder.get_vocabulary()), 64, mask_zero=True),\n",
        "    tf.keras.layers.Bidirectional(tf.keras.layers.LSTM(64, return_sequences=True)),\n",
        "    tf.keras.layers.Bidirectional(tf.keras.layers.LSTM(32)),\n",
        "    tf.keras.layers.Dense(64, activation='relu'),\n",
        "    tf.keras.layers.Dropout(0.5),\n",
        "    tf.keras.layers.Dense(1)\n",
        "])"
      ]
    },
    {
      "cell_type": "code",
      "execution_count": 21,
      "metadata": {
        "id": "6DcEBZzl19sE"
      },
      "outputs": [],
      "source": [
        "\n",
        "model.compile(loss=tf.keras.losses.BinaryCrossentropy(from_logits=True),\n",
        "              optimizer=tf.keras.optimizers.Adam(1e-4),\n",
        "              metrics=['accuracy'])"
      ]
    },
    {
      "cell_type": "code",
      "execution_count": 22,
      "metadata": {
        "colab": {
          "base_uri": "https://localhost:8080/"
        },
        "id": "PmDD1vG62IZv",
        "outputId": "383a8542-7958-41c0-b43e-7497b0edf91e"
      },
      "outputs": [
        {
          "output_type": "stream",
          "name": "stdout",
          "text": [
            "Epoch 1/10\n",
            "391/391 [==============================] - 78s 153ms/step - loss: 0.6176 - accuracy: 0.6064 - val_loss: 0.4841 - val_accuracy: 0.7333\n",
            "Epoch 2/10\n",
            "391/391 [==============================] - 46s 118ms/step - loss: 0.3858 - accuracy: 0.8312 - val_loss: 0.3577 - val_accuracy: 0.8380\n",
            "Epoch 3/10\n",
            "391/391 [==============================] - 45s 113ms/step - loss: 0.3338 - accuracy: 0.8573 - val_loss: 0.3364 - val_accuracy: 0.8417\n",
            "Epoch 4/10\n",
            "391/391 [==============================] - 47s 118ms/step - loss: 0.3206 - accuracy: 0.8616 - val_loss: 0.3276 - val_accuracy: 0.8536\n",
            "Epoch 5/10\n",
            "391/391 [==============================] - 44s 112ms/step - loss: 0.3119 - accuracy: 0.8641 - val_loss: 0.3306 - val_accuracy: 0.8589\n",
            "Epoch 6/10\n",
            "391/391 [==============================] - 44s 112ms/step - loss: 0.3091 - accuracy: 0.8668 - val_loss: 0.3222 - val_accuracy: 0.8479\n",
            "Epoch 7/10\n",
            "391/391 [==============================] - 44s 113ms/step - loss: 0.2995 - accuracy: 0.8716 - val_loss: 0.3226 - val_accuracy: 0.8443\n",
            "Epoch 8/10\n",
            "391/391 [==============================] - 45s 115ms/step - loss: 0.3027 - accuracy: 0.8698 - val_loss: 0.3471 - val_accuracy: 0.8625\n",
            "Epoch 9/10\n",
            "391/391 [==============================] - 44s 113ms/step - loss: 0.3012 - accuracy: 0.8698 - val_loss: 0.3228 - val_accuracy: 0.8604\n",
            "Epoch 10/10\n",
            "391/391 [==============================] - 43s 111ms/step - loss: 0.2953 - accuracy: 0.8727 - val_loss: 0.3182 - val_accuracy: 0.8484\n"
          ]
        }
      ],
      "source": [
        "\n",
        "history = model.fit(train_dataset, epochs=10,\n",
        "                    validation_data=test_dataset,\n",
        "                    validation_steps=30)"
      ]
    },
    {
      "cell_type": "code",
      "execution_count": 23,
      "metadata": {
        "colab": {
          "base_uri": "https://localhost:8080/"
        },
        "id": "U9oSdoALNmAC",
        "outputId": "3a3cba81-06d3-43b4-d360-af7a1e8642e9"
      },
      "outputs": [
        {
          "output_type": "stream",
          "name": "stdout",
          "text": [
            "391/391 [==============================] - 20s 50ms/step - loss: 0.3158 - accuracy: 0.8512\n",
            "Test Loss: 0.31577563285827637\n",
            "Test Accuracy: 0.8511999845504761\n"
          ]
        }
      ],
      "source": [
        "test_loss, test_acc = model.evaluate(test_dataset)\n",
        "\n",
        "print('Test Loss:', test_loss)\n",
        "print('Test Accuracy:', test_acc)"
      ]
    },
    {
      "cell_type": "code",
      "execution_count": 24,
      "metadata": {
        "colab": {
          "base_uri": "https://localhost:8080/"
        },
        "id": "GkSSZTMMNwF3",
        "outputId": "f7759d37-d4a9-43d4-885b-46bed2b99d69"
      },
      "outputs": [
        {
          "output_type": "stream",
          "name": "stdout",
          "text": [
            "1/1 [==============================] - 5s 5s/step\n",
            "[[-1.5765662]]\n"
          ]
        }
      ],
      "source": [
        "\n",
        "# predict on a sample text without padding.\n",
        "\n",
        "sample_text = ('The movie was not good. The animation and the graphics '\n",
        "                'were terrible. I would not recommend this movie.')\n",
        "predictions = model.predict(np.array([sample_text]))\n",
        "print(predictions)"
      ]
    },
    {
      "cell_type": "code",
      "execution_count": 25,
      "metadata": {
        "colab": {
          "base_uri": "https://localhost:8080/",
          "height": 542
        },
        "id": "m9O_wC_8Ny7G",
        "outputId": "34de5b11-0232-4036-c9dd-6076dd14d0b0"
      },
      "outputs": [
        {
          "output_type": "display_data",
          "data": {
            "text/plain": [
              "<Figure size 1600x600 with 2 Axes>"
            ],
            "image/png": "[encoded data removed]"
          },
          "metadata": {}
        }
      ],
      "source": [
        "plt.figure(figsize=(16, 6))\n",
        "plt.subplot(1, 2, 1)\n",
        "plot_graphs(history, 'accuracy')\n",
        "plt.subplot(1, 2, 2)\n",
        "plot_graphs(history, 'loss')"
      ]
    }
  ],
  "metadata": {
    "accelerator": "GPU",
    "colab": {
      "gpuType": "T4",
      "provenance": []
    },
    "kernelspec": {
      "display_name": "Python 3",
      "name": "python3"
    },
    "language_info": {
      "codemirror_mode": {
        "name": "ipython",
        "version": 3
      },
      "file_extension": ".py",
      "mimetype": "text/x-python",
      "name": "python",
      "nbconvert_exporter": "python",
      "pygments_lexer": "ipython3",
      "version": "3.11.4"
    }
  },
  "nbformat": 4,
  "nbformat_minor": 0
}